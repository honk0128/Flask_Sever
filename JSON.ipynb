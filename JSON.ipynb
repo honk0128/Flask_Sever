{
 "cells": [
  {
   "cell_type": "markdown",
   "id": "9801971a-269c-4538-b460-2edbb60abfa6",
   "metadata": {},
   "source": [
    "# JSON(javascript Object Notation == Python Dictionary)"
   ]
  },
  {
   "cell_type": "code",
   "execution_count": 19,
   "id": "302e72a5-e60b-4dc5-88b3-3277bb5eacc6",
   "metadata": {},
   "outputs": [],
   "source": [
    "import json"
   ]
  },
  {
   "cell_type": "code",
   "execution_count": 20,
   "id": "06b43a97-deab-4401-8099-fd8173c43b6e",
   "metadata": {},
   "outputs": [
    {
     "name": "stdout",
     "output_type": "stream",
     "text": [
      "<class 'dict'>\n",
      "왕눈이\n"
     ]
    }
   ],
   "source": [
    "data = {\n",
    "    \"name\": \"왕눈이\",\n",
    "    \"age\": 30,\n",
    "    \"city\": \"서울\"    \n",
    "}\n",
    "\n",
    "print(type(data))\n",
    "print(data['name'])"
   ]
  },
  {
   "cell_type": "code",
   "execution_count": 21,
   "id": "b36cb175-374b-4a98-b5b0-481c04ceb473",
   "metadata": {},
   "outputs": [
    {
     "name": "stdout",
     "output_type": "stream",
     "text": [
      "<class 'str'>\n"
     ]
    }
   ],
   "source": [
    "data = '''{\n",
    "    \"name\": \"왕눈이\",\n",
    "    \"age\": 30,\n",
    "    \"city\": \"서울\"    \n",
    "}'''\n",
    "\n",
    "print(type(data))\n",
    "# print(data['name']) # X"
   ]
  },
  {
   "cell_type": "code",
   "execution_count": 22,
   "id": "769a8a22-0e95-4808-b0d5-3c19ff3e6a15",
   "metadata": {},
   "outputs": [
    {
     "data": {
      "text/plain": [
       "'\\n아래는 파이썬 코드아, json 객체로 변환하는 방법 알려줘\\n\\ndata = \\'\\'\\'{\\n    \"name\": \"왕눈이\",\\n    \"age\": 30,\\n    \"city\": \"서울\"    \\n}\\'\\'\\'\\n'"
      ]
     },
     "execution_count": 22,
     "metadata": {},
     "output_type": "execute_result"
    }
   ],
   "source": [
    "\"\"\"\n",
    "아래는 파이썬 코드아, json 객체로 변환하는 방법 알려줘\n",
    "\n",
    "data = '''{\n",
    "    \"name\": \"왕눈이\",\n",
    "    \"age\": 30,\n",
    "    \"city\": \"서울\"    \n",
    "}'''\n",
    "\"\"\""
   ]
  },
  {
   "cell_type": "code",
   "execution_count": 26,
   "id": "a92d5f72-ef02-47f3-bbed-d0624e96664a",
   "metadata": {},
   "outputs": [
    {
     "name": "stdout",
     "output_type": "stream",
     "text": [
      "<class 'dict'>\n",
      "{'name': '왕눈이', 'age': 30, 'city': '서울'}\n",
      "왕눈이\n"
     ]
    }
   ],
   "source": [
    "# JSON 문자열을 파이썬 딕셔너리로 변환\n",
    "data_dict = json.loads(data) # str -> json(dict)\n",
    "\n",
    "print(type(data_dict))  # 데이터 타입 확인\n",
    "print(data_dict)\n",
    "print(data_dict['name'])"
   ]
  },
  {
   "cell_type": "code",
   "execution_count": 25,
   "id": "f9732ad4-bfb7-4d25-bebd-06270f22069a",
   "metadata": {},
   "outputs": [
    {
     "name": "stdout",
     "output_type": "stream",
     "text": [
      "<class 'str'>\n"
     ]
    }
   ],
   "source": [
    "data_str = json.dumps(data_dict) # json(dict) -> str\n",
    "print(type(data_str))"
   ]
  },
  {
   "cell_type": "code",
   "execution_count": 31,
   "id": "0c589b2c-9741-43bd-b8d2-8d170555680f",
   "metadata": {},
   "outputs": [],
   "source": [
    "# JSON 객체 배열 생성 예제, list, dictionary, json 객체 배열 표현 가능\n",
    "data_list = [\n",
    "    {\n",
    "        \"name\": \"John\",\n",
    "        \"age\": 30,\n",
    "        \"city\": \"New York\"\n",
    "    },\n",
    "    {\n",
    "        \"name\": \"Alice\",\n",
    "        \"age\": 25,\n",
    "        \"city\": \"San Francisco\"\n",
    "    },\n",
    "    {\n",
    "        \"name\": \"Bob\",\n",
    "        \"age\": 35,\n",
    "        \"city\": \"Los Angeles\"\n",
    "    }\n",
    "]"
   ]
  },
  {
   "cell_type": "code",
   "execution_count": 37,
   "id": "09b52d91-6ea6-4933-b9af-f1b31655a59d",
   "metadata": {},
   "outputs": [
    {
     "name": "stdout",
     "output_type": "stream",
     "text": [
      "<class 'list'>\n",
      "[{'name': 'John', 'age': 30, 'city': 'New York'}, {'name': 'Alice', 'age': 25, 'city': 'San Francisco'}, {'name': 'Bob', 'age': 35, 'city': 'Los Angeles'}]\n",
      "<class 'str'>\n"
     ]
    }
   ],
   "source": [
    "print(type(data_list)) # list\n",
    "\n",
    "# data_json = json.loads(data_list) # X\n",
    "# print(type(data_json))\n",
    "\n",
    "data_str = str(data_list)\n",
    "print(data_str)\n",
    "print(type(data_str))"
   ]
  },
  {
   "cell_type": "code",
   "execution_count": 40,
   "id": "19b2c764-eb2f-4706-86db-6cd13a3f222b",
   "metadata": {},
   "outputs": [
    {
     "name": "stdout",
     "output_type": "stream",
     "text": [
      "[{\"name\": \"John\", \"age\": 30, \"city\": \"New York\"}, {\"name\": \"Alice\", \"age\": 25, \"city\": \"San Francisco\"}, {\"name\": \"Bob\", \"age\": 35, \"city\": \"Los Angeles\"}]\n"
     ]
    }
   ],
   "source": [
    "data_str = data_str.replace(\"\\'\", \"\\\"\")\n",
    "print(data_str)"
   ]
  },
  {
   "cell_type": "code",
   "execution_count": 41,
   "id": "7ac9a27d-ae07-4fc4-95e7-3d8227e95943",
   "metadata": {},
   "outputs": [
    {
     "name": "stdout",
     "output_type": "stream",
     "text": [
      "[{'name': 'John', 'age': 30, 'city': 'New York'}, {'name': 'Alice', 'age': 25, 'city': 'San Francisco'}, {'name': 'Bob', 'age': 35, 'city': 'Los Angeles'}]\n",
      "<class 'list'>\n"
     ]
    }
   ],
   "source": [
    "data_json = json.loads(data_str)\n",
    "print(data_json)\n",
    "print(type(data_json)) # json 객체 배열 표현 가능\n",
    "\n",
    "# data_json = json.loads(data_list) # X\n",
    "# print(type(data_json))\n",
    "# JSON 배열로 변환\n",
    "# json_string = json.dumps(data_list) # dictionary -> json string\n",
    "# print(json_string)\n",
    "# print(type(json_string))"
   ]
  },
  {
   "cell_type": "code",
   "execution_count": 42,
   "id": "d680cf99-ee40-4d32-bc3f-bf5573d7e5a5",
   "metadata": {},
   "outputs": [],
   "source": [
    "data_str = '''[\n",
    "    {\n",
    "        \"name\": \"John\",\n",
    "        \"age\": 30,\n",
    "        \"city\": \"New York\"\n",
    "    },\n",
    "    {\n",
    "        \"name\": \"Alice\",\n",
    "        \"age\": 25,\n",
    "        \"city\": \"San Francisco\"\n",
    "    },\n",
    "    {\n",
    "        \"name\": \"Bob\",\n",
    "        \"age\": 35,\n",
    "        \"city\": \"Los Angeles\"\n",
    "    }\n",
    "]\n",
    "'''"
   ]
  },
  {
   "cell_type": "code",
   "execution_count": 44,
   "id": "389b64f7-f448-4d27-915b-f35b5e52482d",
   "metadata": {},
   "outputs": [
    {
     "name": "stdout",
     "output_type": "stream",
     "text": [
      "<class 'list'>\n",
      "{'name': 'John', 'age': 30, 'city': 'New York'}\n",
      "{'name': 'Alice', 'age': 25, 'city': 'San Francisco'}\n",
      "{'name': 'Bob', 'age': 35, 'city': 'Los Angeles'}\n"
     ]
    }
   ],
   "source": [
    "data_json = json.loads(data_str)\n",
    "print(type(data_json))\n",
    "for item in data_json:\n",
    "    print(item)"
   ]
  },
  {
   "cell_type": "code",
   "execution_count": 45,
   "id": "9736e851-5671-4402-84ff-c29496a2468f",
   "metadata": {},
   "outputs": [
    {
     "name": "stdout",
     "output_type": "stream",
     "text": [
      "{\"name\": \"John\", \"age\": 30, \"address\": {\"street\": \"123 Main St\", \"city\": \"New York\"}, \"hobbies\": [\"reading\", \"painting\", \"traveling\"]}\n"
     ]
    }
   ],
   "source": [
    "# JSON 객체 안에 JSON 객체와 배열 생성 예제\n",
    "data = {\n",
    "    \"name\": \"John\",\n",
    "    \"age\": 30,\n",
    "    \"address\": {\n",
    "        \"street\": \"123 Main St\",\n",
    "        \"city\": \"New York\"\n",
    "    },\n",
    "    \"hobbies\": [\"reading\", \"painting\", \"traveling\"]\n",
    "}\n",
    "\n",
    "# JSON 객체를 문자열로 변환\n",
    "json_string = json.dumps(data) # dict -> json 문자열\n",
    "print(json_string)"
   ]
  },
  {
   "cell_type": "code",
   "execution_count": 49,
   "id": "a72dafcd-b344-4cc0-80ee-8044a81152a7",
   "metadata": {},
   "outputs": [
    {
     "name": "stdout",
     "output_type": "stream",
     "text": [
      "New York\n"
     ]
    }
   ],
   "source": [
    "# JSON 형식의 문자열 정의\n",
    "json_str = '''{\"name\": \"John\", \n",
    "               \"age\": 30, \n",
    "               \"address\": {\"street\": \"123 Main St\", \"city\": \"New York\"}, \n",
    "               \"hobbies\": [\"reading\", \"painting\", \"traveling\"]\n",
    "            }'''\n",
    "\n",
    "# JSON 문자열을 Python 데이터로 파싱\n",
    "json_data = json.loads(json_str)\n",
    "\n",
    "# 'address' 객체에서 'city' 값을 추출하여 변수에 저장\n",
    "city_value = data['address']['city']\n",
    "\n",
    "# 'city_value' 변수의 값을 출력\n",
    "print(city_value)"
   ]
  },
  {
   "cell_type": "code",
   "execution_count": 50,
   "id": "d704231b-214c-477c-8778-896dc75280a6",
   "metadata": {},
   "outputs": [
    {
     "name": "stdout",
     "output_type": "stream",
     "text": [
      "-> content: 일반적으로 여행은 많은 사람들에게 스트레스를 완화시키는 효과를 가져올 수 있습니다. 여행을 하면 일상 생활에서 느끼는 스트레스와 마음의 피로를 덜어줄 수 있고, 새로운 환경과 경험을 통해 긍정적인 감정을 느끼게 됩니다. 또한, 여행 중에는 쉬어갈 수 있는 시간과 공간을 마련할 수 있어 스트레스 해소에 도움이 됩니다.\n",
      "\n",
      "그러나, 여행이 모든 사람에게 스트레스 완화의 효과를 가져온다는 것은 절대적인 사실은 아닙니다. 개인의 성격, 경험, 기대 등에 따라 여행으로 인해 추가적인 스트레스를 느끼는 경우도 있을 수 있습니다. 또한 여행 중 발생할 수 있는 예기치 않은 상황이나 문제들로 인해 스트레스가 증가하는 경우도 있을 수 있습니다.\n",
      "\n",
      "따라서, 여행이 스트레스 완화에 도움이 되는지는 개인의 경험과 인지에 따라 다를 수 있습니다. 상담을 통해 개인의 상황과 필요에 맞는 조언과 지원을 받을 수 있으니, 심리 상담가와의 상담을 고려해보시는 것이 좋을 수 있습니다.\n"
     ]
    }
   ],
   "source": [
    "content=\"\\uc77c\\ubc18\\uc801\\uc73c\\ub85c \\uc5ec\\ud589\\uc740 \\ub9ce\\uc740 \\uc0ac\\ub78c\\ub4e4\\uc5d0\\uac8c \\uc2a4\\ud2b8\\ub808\\uc2a4\\ub97c \\uc644\\ud654\\uc2dc\\ud0a4\\ub294 \\ud6a8\\uacfc\\ub97c \\uac00\\uc838\\uc62c \\uc218 \\uc788\\uc2b5\\ub2c8\\ub2e4. \\uc5ec\\ud589\\uc744 \\ud558\\uba74 \\uc77c\\uc0c1 \\uc0dd\\ud65c\\uc5d0\\uc11c \\ub290\\ub07c\\ub294 \\uc2a4\\ud2b8\\ub808\\uc2a4\\uc640 \\ub9c8\\uc74c\\uc758 \\ud53c\\ub85c\\ub97c \\ub35c\\uc5b4\\uc904 \\uc218 \\uc788\\uace0, \\uc0c8\\ub85c\\uc6b4 \\ud658\\uacbd\\uacfc \\uacbd\\ud5d8\\uc744 \\ud1b5\\ud574 \\uae0d\\uc815\\uc801\\uc778 \\uac10\\uc815\\uc744 \\ub290\\ub07c\\uac8c \\ub429\\ub2c8\\ub2e4. \\ub610\\ud55c, \\uc5ec\\ud589 \\uc911\\uc5d0\\ub294 \\uc26c\\uc5b4\\uac08 \\uc218 \\uc788\\ub294 \\uc2dc\\uac04\\uacfc \\uacf5\\uac04\\uc744 \\ub9c8\\ub828\\ud560 \\uc218 \\uc788\\uc5b4 \\uc2a4\\ud2b8\\ub808\\uc2a4 \\ud574\\uc18c\\uc5d0 \\ub3c4\\uc6c0\\uc774 \\ub429\\ub2c8\\ub2e4.\\n\\n\\uadf8\\ub7ec\\ub098, \\uc5ec\\ud589\\uc774 \\ubaa8\\ub4e0 \\uc0ac\\ub78c\\uc5d0\\uac8c \\uc2a4\\ud2b8\\ub808\\uc2a4 \\uc644\\ud654\\uc758 \\ud6a8\\uacfc\\ub97c \\uac00\\uc838\\uc628\\ub2e4\\ub294 \\uac83\\uc740 \\uc808\\ub300\\uc801\\uc778 \\uc0ac\\uc2e4\\uc740 \\uc544\\ub2d9\\ub2c8\\ub2e4. \\uac1c\\uc778\\uc758 \\uc131\\uaca9, \\uacbd\\ud5d8, \\uae30\\ub300 \\ub4f1\\uc5d0 \\ub530\\ub77c \\uc5ec\\ud589\\uc73c\\ub85c \\uc778\\ud574 \\ucd94\\uac00\\uc801\\uc778 \\uc2a4\\ud2b8\\ub808\\uc2a4\\ub97c \\ub290\\ub07c\\ub294 \\uacbd\\uc6b0\\ub3c4 \\uc788\\uc744 \\uc218 \\uc788\\uc2b5\\ub2c8\\ub2e4. \\ub610\\ud55c \\uc5ec\\ud589 \\uc911 \\ubc1c\\uc0dd\\ud560 \\uc218 \\uc788\\ub294 \\uc608\\uae30\\uce58 \\uc54a\\uc740 \\uc0c1\\ud669\\uc774\\ub098 \\ubb38\\uc81c\\ub4e4\\ub85c \\uc778\\ud574 \\uc2a4\\ud2b8\\ub808\\uc2a4\\uac00 \\uc99d\\uac00\\ud558\\ub294 \\uacbd\\uc6b0\\ub3c4 \\uc788\\uc744 \\uc218 \\uc788\\uc2b5\\ub2c8\\ub2e4.\\n\\n\\ub530\\ub77c\\uc11c, \\uc5ec\\ud589\\uc774 \\uc2a4\\ud2b8\\ub808\\uc2a4 \\uc644\\ud654\\uc5d0 \\ub3c4\\uc6c0\\uc774 \\ub418\\ub294\\uc9c0\\ub294 \\uac1c\\uc778\\uc758 \\uacbd\\ud5d8\\uacfc \\uc778\\uc9c0\\uc5d0 \\ub530\\ub77c \\ub2e4\\ub97c \\uc218 \\uc788\\uc2b5\\ub2c8\\ub2e4. \\uc0c1\\ub2f4\\uc744 \\ud1b5\\ud574 \\uac1c\\uc778\\uc758 \\uc0c1\\ud669\\uacfc \\ud544\\uc694\\uc5d0 \\ub9de\\ub294 \\uc870\\uc5b8\\uacfc \\uc9c0\\uc6d0\\uc744 \\ubc1b\\uc744 \\uc218 \\uc788\\uc73c\\ub2c8, \\uc2ec\\ub9ac \\uc0c1\\ub2f4\\uac00\\uc640\\uc758 \\uc0c1\\ub2f4\\uc744 \\uace0\\ub824\\ud574\\ubcf4\\uc2dc\\ub294 \\uac83\\uc774 \\uc88b\\uc744 \\uc218 \\uc788\\uc2b5\\ub2c8\\ub2e4.\"\n",
    "# print(content.encode('utf-8').decode('unicode_escape')) # X\n",
    "# print(content.encode('utf-8').decode('euc-kr')) # X\n",
    "# print(content.encode('utf-8')) # X\n",
    "# print(content.decode('unicode_escape')) \n",
    "print('-> content:', content) # unicode는 문자로 변경하여 출력\n",
    "# print('-> content encode:', content.encode('utf-8').decode('utf-8'))"
   ]
  },
  {
   "cell_type": "code",
   "execution_count": null,
   "id": "9369d523-52cd-48e2-bb14-9acb40223123",
   "metadata": {},
   "outputs": [],
   "source": []
  }
 ],
 "metadata": {
  "kernelspec": {
   "display_name": "ai",
   "language": "python",
   "name": "ai"
  },
  "language_info": {
   "codemirror_mode": {
    "name": "ipython",
    "version": 3
   },
   "file_extension": ".py",
   "mimetype": "text/x-python",
   "name": "python",
   "nbconvert_exporter": "python",
   "pygments_lexer": "ipython3",
   "version": "3.10.13"
  }
 },
 "nbformat": 4,
 "nbformat_minor": 5
}
