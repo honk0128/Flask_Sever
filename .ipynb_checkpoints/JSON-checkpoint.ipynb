{
 "cells": [
  {
   "cell_type": "markdown",
   "id": "9801971a-269c-4538-b460-2edbb60abfa6",
   "metadata": {},
   "source": [
    "## JSON(javascript Object Notation == Python Dictionary)"
   ]
  },
  {
   "cell_type": "code",
   "execution_count": 19,
   "id": "302e72a5-e60b-4dc5-88b3-3277bb5eacc6",
   "metadata": {},
   "outputs": [],
   "source": [
    "import json"
   ]
  },
  {
   "cell_type": "code",
   "execution_count": 20,
   "id": "06b43a97-deab-4401-8099-fd8173c43b6e",
   "metadata": {},
   "outputs": [
    {
     "name": "stdout",
     "output_type": "stream",
     "text": [
      "<class 'dict'>\n",
      "왕눈이\n"
     ]
    }
   ],
   "source": [
    "data = {\n",
    "    \"name\": \"왕눈이\",\n",
    "    \"age\": 30,\n",
    "    \"city\": \"서울\"    \n",
    "}\n",
    "\n",
    "print(type(data))\n",
    "print(data['name'])"
   ]
  },
  {
   "cell_type": "code",
   "execution_count": 21,
   "id": "b36cb175-374b-4a98-b5b0-481c04ceb473",
   "metadata": {},
   "outputs": [
    {
     "name": "stdout",
     "output_type": "stream",
     "text": [
      "<class 'str'>\n"
     ]
    }
   ],
   "source": [
    "data = '''{\n",
    "    \"name\": \"왕눈이\",\n",
    "    \"age\": 30,\n",
    "    \"city\": \"서울\"    \n",
    "}'''\n",
    "\n",
    "print(type(data))\n",
    "# print(data['name']) # X"
   ]
  },
  {
   "cell_type": "code",
   "execution_count": 22,
   "id": "769a8a22-0e95-4808-b0d5-3c19ff3e6a15",
   "metadata": {},
   "outputs": [
    {
     "data": {
      "text/plain": [
       "'\\n아래는 파이썬 코드아, json 객체로 변환하는 방법 알려줘\\n\\ndata = \\'\\'\\'{\\n    \"name\": \"왕눈이\",\\n    \"age\": 30,\\n    \"city\": \"서울\"    \\n}\\'\\'\\'\\n'"
      ]
     },
     "execution_count": 22,
     "metadata": {},
     "output_type": "execute_result"
    }
   ],
   "source": [
    "\"\"\"\n",
    "아래는 파이썬 코드아, json 객체로 변환하는 방법 알려줘\n",
    "\n",
    "data = '''{\n",
    "    \"name\": \"왕눈이\",\n",
    "    \"age\": 30,\n",
    "    \"city\": \"서울\"    \n",
    "}'''\n",
    "\"\"\""
   ]
  },
  {
   "cell_type": "code",
   "execution_count": 26,
   "id": "a92d5f72-ef02-47f3-bbed-d0624e96664a",
   "metadata": {},
   "outputs": [
    {
     "name": "stdout",
     "output_type": "stream",
     "text": [
      "<class 'dict'>\n",
      "{'name': '왕눈이', 'age': 30, 'city': '서울'}\n",
      "왕눈이\n"
     ]
    }
   ],
   "source": [
    "# JSON 문자열을 파이썬 딕셔너리로 변환\n",
    "data_dict = json.loads(data) # str -> json(dict)\n",
    "\n",
    "print(type(data_dict))  # 데이터 타입 확인\n",
    "print(data_dict)\n",
    "print(data_dict['name'])"
   ]
  },
  {
   "cell_type": "code",
   "execution_count": 25,
   "id": "f9732ad4-bfb7-4d25-bebd-06270f22069a",
   "metadata": {},
   "outputs": [
    {
     "name": "stdout",
     "output_type": "stream",
     "text": [
      "<class 'str'>\n"
     ]
    }
   ],
   "source": [
    "data_str = json.dumps(data_dict) # json(dict) -> str\n",
    "print(type(data_str))"
   ]
  },
  {
   "cell_type": "code",
   "execution_count": 31,
   "id": "0c589b2c-9741-43bd-b8d2-8d170555680f",
   "metadata": {},
   "outputs": [],
   "source": [
    "# JSON 객체 배열 생성 예제, list, dictionary, json 객체 배열 표현 가능\n",
    "data_list = [\n",
    "    {\n",
    "        \"name\": \"John\",\n",
    "        \"age\": 30,\n",
    "        \"city\": \"New York\"\n",
    "    },\n",
    "    {\n",
    "        \"name\": \"Alice\",\n",
    "        \"age\": 25,\n",
    "        \"city\": \"San Francisco\"\n",
    "    },\n",
    "    {\n",
    "        \"name\": \"Bob\",\n",
    "        \"age\": 35,\n",
    "        \"city\": \"Los Angeles\"\n",
    "    }\n",
    "]"
   ]
  },
  {
   "cell_type": "code",
   "execution_count": 37,
   "id": "09b52d91-6ea6-4933-b9af-f1b31655a59d",
   "metadata": {},
   "outputs": [
    {
     "name": "stdout",
     "output_type": "stream",
     "text": [
      "<class 'list'>\n",
      "[{'name': 'John', 'age': 30, 'city': 'New York'}, {'name': 'Alice', 'age': 25, 'city': 'San Francisco'}, {'name': 'Bob', 'age': 35, 'city': 'Los Angeles'}]\n",
      "<class 'str'>\n"
     ]
    }
   ],
   "source": [
    "print(type(data_list)) # list\n",
    "\n",
    "# data_json = json.loads(data_list) # X\n",
    "# print(type(data_json))\n",
    "\n",
    "data_str = str(data_list)\n",
    "print(data_str)\n",
    "print(type(data_str))"
   ]
  },
  {
   "cell_type": "code",
   "execution_count": 40,
   "id": "19b2c764-eb2f-4706-86db-6cd13a3f222b",
   "metadata": {},
   "outputs": [
    {
     "name": "stdout",
     "output_type": "stream",
     "text": [
      "[{\"name\": \"John\", \"age\": 30, \"city\": \"New York\"}, {\"name\": \"Alice\", \"age\": 25, \"city\": \"San Francisco\"}, {\"name\": \"Bob\", \"age\": 35, \"city\": \"Los Angeles\"}]\n"
     ]
    }
   ],
   "source": [
    "data_str = data_str.replace(\"\\'\", \"\\\"\")\n",
    "print(data_str)"
   ]
  },
  {
   "cell_type": "code",
   "execution_count": 41,
   "id": "7ac9a27d-ae07-4fc4-95e7-3d8227e95943",
   "metadata": {},
   "outputs": [
    {
     "name": "stdout",
     "output_type": "stream",
     "text": [
      "[{'name': 'John', 'age': 30, 'city': 'New York'}, {'name': 'Alice', 'age': 25, 'city': 'San Francisco'}, {'name': 'Bob', 'age': 35, 'city': 'Los Angeles'}]\n",
      "<class 'list'>\n"
     ]
    }
   ],
   "source": [
    "data_json = json.loads(data_str)\n",
    "print(data_json)\n",
    "print(type(data_json)) # json 객체 배열 표현 가능\n",
    "\n",
    "# data_json = json.loads(data_list) # X\n",
    "# print(type(data_json))\n",
    "# JSON 배열로 변환\n",
    "# json_string = json.dumps(data_list) # dictionary -> json string\n",
    "# print(json_string)\n",
    "# print(type(json_string))"
   ]
  },
  {
   "cell_type": "code",
   "execution_count": 42,
   "id": "d680cf99-ee40-4d32-bc3f-bf5573d7e5a5",
   "metadata": {},
   "outputs": [],
   "source": [
    "data_str = '''[\n",
    "    {\n",
    "        \"name\": \"John\",\n",
    "        \"age\": 30,\n",
    "        \"city\": \"New York\"\n",
    "    },\n",
    "    {\n",
    "        \"name\": \"Alice\",\n",
    "        \"age\": 25,\n",
    "        \"city\": \"San Francisco\"\n",
    "    },\n",
    "    {\n",
    "        \"name\": \"Bob\",\n",
    "        \"age\": 35,\n",
    "        \"city\": \"Los Angeles\"\n",
    "    }\n",
    "]\n",
    "'''"
   ]
  },
  {
   "cell_type": "code",
   "execution_count": 44,
   "id": "389b64f7-f448-4d27-915b-f35b5e52482d",
   "metadata": {},
   "outputs": [
    {
     "name": "stdout",
     "output_type": "stream",
     "text": [
      "<class 'list'>\n",
      "{'name': 'John', 'age': 30, 'city': 'New York'}\n",
      "{'name': 'Alice', 'age': 25, 'city': 'San Francisco'}\n",
      "{'name': 'Bob', 'age': 35, 'city': 'Los Angeles'}\n"
     ]
    }
   ],
   "source": [
    "data_json = json.loads(data_str)\n",
    "print(type(data_json))\n",
    "for item in data_json:\n",
    "    print(item)"
   ]
  },
  {
   "cell_type": "code",
   "execution_count": 45,
   "id": "9736e851-5671-4402-84ff-c29496a2468f",
   "metadata": {},
   "outputs": [
    {
     "name": "stdout",
     "output_type": "stream",
     "text": [
      "{\"name\": \"John\", \"age\": 30, \"address\": {\"street\": \"123 Main St\", \"city\": \"New York\"}, \"hobbies\": [\"reading\", \"painting\", \"traveling\"]}\n"
     ]
    }
   ],
   "source": [
    "# JSON 객체 안에 JSON 객체와 배열 생성 예제\n",
    "data = {\n",
    "    \"name\": \"John\",\n",
    "    \"age\": 30,\n",
    "    \"address\": {\n",
    "        \"street\": \"123 Main St\",\n",
    "        \"city\": \"New York\"\n",
    "    },\n",
    "    \"hobbies\": [\"reading\", \"painting\", \"traveling\"]\n",
    "}\n",
    "\n",
    "# JSON 객체를 문자열로 변환\n",
    "json_string = json.dumps(data) # dict -> json 문자열\n",
    "print(json_string)"
   ]
  },
  {
   "cell_type": "code",
   "execution_count": 48,
   "id": "a72dafcd-b344-4cc0-80ee-8044a81152a7",
   "metadata": {},
   "outputs": [
    {
     "name": "stdout",
     "output_type": "stream",
     "text": [
      "New York\n"
     ]
    }
   ],
   "source": [
    "# JSON 형식의 문자열 정의\n",
    "json_str = '''{\"name\": \"John\", \n",
    "               \"age\": 30, \n",
    "               \"address\": {\"street\": \"123 Main St\", \"city\": \"New York\"}, \n",
    "               \"hobbies\": [\"reading\", \"painting\", \"traveling\"]\n",
    "            }'''\n",
    "\n",
    "# JSON 문자열을 Python 데이터로 파싱\n",
    "json_data = json.loads(json_str)\n",
    "\n",
    "# 'address' 객체에서 'city' 값을 추출하여 변수에 저장\n",
    "city_value = data['address']['city']\n",
    "\n",
    "# 'city_value' 변수의 값을 출력\n",
    "print(city_value)"
   ]
  },
  {
   "cell_type": "code",
   "execution_count": null,
   "id": "d704231b-214c-477c-8778-896dc75280a6",
   "metadata": {},
   "outputs": [],
   "source": []
  }
 ],
 "metadata": {
  "kernelspec": {
   "display_name": "ai",
   "language": "python",
   "name": "ai"
  },
  "language_info": {
   "codemirror_mode": {
    "name": "ipython",
    "version": 3
   },
   "file_extension": ".py",
   "mimetype": "text/x-python",
   "name": "python",
   "nbconvert_exporter": "python",
   "pygments_lexer": "ipython3",
   "version": "3.10.13"
  }
 },
 "nbformat": 4,
 "nbformat_minor": 5
}
