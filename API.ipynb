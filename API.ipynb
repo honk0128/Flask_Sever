{
 "cells": [
  {
   "cell_type": "markdown",
   "id": "66695690-069f-4180-91b6-674ee37dcd9e",
   "metadata": {},
   "source": [
    "# OpenAI API 1.30.3"
   ]
  },
  {
   "cell_type": "code",
   "execution_count": 1,
   "id": "d382d5de-ae34-4fa4-97f1-f399afa83f3c",
   "metadata": {},
   "outputs": [],
   "source": [
    "import os\n",
    "import time\n",
    "import json\n",
    "from openai import OpenAI # 1.x에서 사용방법 바뀜\n",
    "\n",
    "client = OpenAI(api_key=os.getenv('OPEN_API_KEY'))\n",
    "\n",
    "prompt = '등산의 효과 알려줘'\n",
    "\n",
    "response = client.chat.completions.create( # 1.x\n",
    "    model=\"gpt-3.5-turbo\",\n",
    "    messages=[\n",
    "        {\n",
    "            'role': 'system',\n",
    "            'content': '너는 의사야'\n",
    "        },\n",
    "        {\n",
    "            'role': 'user',\n",
    "            'content': prompt + '\\n\\n출력 형식: JSON으로 출력해줘.'\n",
    "        }\n",
    "    ],\n",
    "    n=1,             # 응답수, 다양한 응답 생성 가능\n",
    "    max_tokens=512,  # 응답 생성시 최대 1000개의 단어 사용\n",
    "    temperature=0,   # 창의적인 응답여부, 값이 클수록 확률에 기반한 창의적인 응답이 생성됨\n",
    "    response_format= { \"type\":\"json_object\" }\n",
    ")\n",
    "\n"
   ]
  },
  {
   "cell_type": "code",
   "execution_count": 2,
   "id": "a1a9fca3-6326-4b90-9dfb-3ba7d033356c",
   "metadata": {},
   "outputs": [
    {
     "name": "stdout",
     "output_type": "stream",
     "text": [
      "<class 'openai.types.chat.chat_completion.ChatCompletion'>\n",
      "ChatCompletion(id='chatcmpl-9TOrjZqoVqFgjwS1FvD0xj8BBH3Tc', choices=[Choice(finish_reason='stop', index=0, logprobs=None, message=ChatCompletionMessage(content='{\\n    \"효과\": [\\n        \"체력 향상\",\\n        \"스트레스 해소\",\\n        \"심신 안정\",\\n        \"근육 강화\",\\n        \"대사 촉진\",\\n        \"자연 속에서의 휴식\"\\n    ]\\n}', role='assistant', function_call=None, tool_calls=None))], created=1716794123, model='gpt-3.5-turbo-0125', object='chat.completion', system_fingerprint=None, usage=CompletionUsage(completion_tokens=71, prompt_tokens=46, total_tokens=117))\n"
     ]
    }
   ],
   "source": [
    "print(type(response))\n",
    "print(response)"
   ]
  },
  {
   "cell_type": "code",
   "execution_count": 3,
   "id": "5aad0f05-4ebc-4dc0-82aa-ef48c67a5395",
   "metadata": {},
   "outputs": [
    {
     "name": "stdout",
     "output_type": "stream",
     "text": [
      "<class 'str'>\n",
      "{\n",
      "    \"효과\": [\n",
      "        \"체력 향상\",\n",
      "        \"스트레스 해소\",\n",
      "        \"심신 안정\",\n",
      "        \"근육 강화\",\n",
      "        \"대사 촉진\",\n",
      "        \"자연 속에서의 휴식\"\n",
      "    ]\n",
      "}\n"
     ]
    }
   ],
   "source": [
    "print(type(response.choices[0].message.content))\n",
    "print(response.choices[0].message.content)"
   ]
  },
  {
   "cell_type": "code",
   "execution_count": 4,
   "id": "47022289-8704-4479-a189-24bd40e49376",
   "metadata": {},
   "outputs": [
    {
     "name": "stdout",
     "output_type": "stream",
     "text": [
      "['체력 향상', '스트레스 해소', '심신 안정', '근육 강화', '대사 촉진', '자연 속에서의 휴식']\n"
     ]
    }
   ],
   "source": [
    "# print(response.choices[0].message.content['효과']) # X\n",
    "res = json.loads(response.choices[0].message.content)\n",
    "print(res['효과'])"
   ]
  },
  {
   "cell_type": "markdown",
   "id": "f58d0091-9661-4aff-848d-1da4761ed929",
   "metadata": {},
   "source": [
    "# tool.py 모듈의 사용"
   ]
  },
  {
   "cell_type": "code",
   "execution_count": 5,
   "id": "d8e2af47-31cd-4aad-ac83-89f1be7c26cb",
   "metadata": {},
   "outputs": [],
   "source": [
    "import tool"
   ]
  },
  {
   "cell_type": "code",
   "execution_count": 6,
   "id": "70ba59ae-c9d0-450a-aae7-aa5e100d7943",
   "metadata": {},
   "outputs": [
    {
     "name": "stdout",
     "output_type": "stream",
     "text": [
      "{'translated_text': 'My winter nights are filled with stress and year-end shopping traffic jams, but when I close my eyes, I can arrive somewhere as if by magic.'}\n"
     ]
    }
   ],
   "source": [
    "prompt = '[내 겨울밤들은 가득 쌓인 스트레스와 연말 쇼핑 교통체증으로 채워져 하지만 눈을 감으면 어딘가로 도착할 수 있어 마치 마법처럼] 문장을 영어로 번역해줘.'\n",
    "response = tool.answer(role = '너는 번역가야', prompt=prompt, output = 'json', format = '{\"translated_text\": 번역된 문자열}')\n",
    "print(response)"
   ]
  },
  {
   "cell_type": "code",
   "execution_count": 11,
   "id": "608da574-1dbd-417f-96ea-25d2fb42a356",
   "metadata": {},
   "outputs": [
    {
     "name": "stdout",
     "output_type": "stream",
     "text": [
      "{'food': '삼겹살'}\n"
     ]
    }
   ],
   "source": [
    "prompt = '내 나이는 20대야 오늘 저녁 친구 생일이야 고기 종류로 메뉴 추천해줘, 너무 값비싼 메뉴는 추천하지 말아줘.'\n",
    "response = tool.answer(role = '너는 고깃집 사장이야', prompt=prompt, output = 'json', format = '{\"food\": 값}')\n",
    "print(response)"
   ]
  },
  {
   "cell_type": "code",
   "execution_count": null,
   "id": "a5ff46d1-81f4-470f-a6b5-00cf6edc519d",
   "metadata": {},
   "outputs": [],
   "source": [
    "prompt = '내 나이는 20대야 오늘 저녁 친구 생일이야 고기 종류로 메뉴 추천해줘, 너무 값비싼 메뉴는 추천하지 말아줘.'\n",
    "response = tool.answer(role = '너는 고깃집 사장이야', prompt=prompt, output = 'json', format = '{\"food\": 값}', lim = 'gpt-4-turbo')\n",
    "print(response)"
   ]
  },
  {
   "cell_type": "code",
   "execution_count": null,
   "id": "e9289c87-179c-47d3-89d1-14925a4380dc",
   "metadata": {},
   "outputs": [],
   "source": [
    "prompt = '내 나이는 20대야 오늘 저녁 친구 생일이야 고기 종류로 메뉴 추천해줘, 너무 값비싼 메뉴는 추천하지 말아줘.'\n",
    "response = tool.answer(role = '너는 고깃집 사장이야', prompt=prompt, output = 'json', format = '{\"food\": 값}', lim = 'gpt-4o')\n",
    "print(response)"
   ]
  },
  {
   "cell_type": "code",
   "execution_count": 15,
   "id": "7a0c24af-d7fd-4660-870b-d2e57e5313cc",
   "metadata": {},
   "outputs": [
    {
     "name": "stdout",
     "output_type": "stream",
     "text": [
      "{'food1': '삼겹살', 'food2': '목살', 'food3': '항정살', 'food4': '양념치킨', 'food5': '소갈비찜', 'food6': '소고기 국밥', 'food7': '돼지갈비찜'}\n"
     ]
    }
   ],
   "source": [
    "prompt = '내 나이는 20대야 오늘 저녁 친구 생일이야 고기 종류로 메뉴 7가지 추천해줘, 너무 값비싼 메뉴는 추천하지 말아줘.'\n",
    "response = tool.answer(role = '너는 고깃집 사장이야', prompt=prompt, output = 'json', format = '{\"food\": \"값\"}')\n",
    "print(response)"
   ]
  },
  {
   "cell_type": "code",
   "execution_count": 17,
   "id": "5c02648f-1f63-4171-9d6f-d4dfb07368e4",
   "metadata": {},
   "outputs": [
    {
     "name": "stdout",
     "output_type": "stream",
     "text": [
      "{'가수': '아이유', '노래 제목': '마음'}\n"
     ]
    }
   ],
   "source": [
    "prompt = '[내 겨울밤들은 가득 쌓인 스트레스와 연말 쇼핑 교통체증으로 채워져 하지만 눈을 감으면 어딘가로 도착할 수 있어 마치 마법처럼] 이 가사가 들어간 노래를 부른 가수를 알려줘'\n",
    "response = tool.answer(role = '너는 음악 전문가야', prompt=prompt, output = 'json', format = '{\"가수\": 이름, \"노래 제목\": 제목}')\n",
    "print(response)"
   ]
  },
  {
   "cell_type": "code",
   "execution_count": 23,
   "id": "9e06cc69-82a8-4d49-b176-a3225c1d5716",
   "metadata": {},
   "outputs": [
    {
     "name": "stdout",
     "output_type": "stream",
     "text": [
      "My winter nights are filled with stress and year-end shopping traffic jams, but when I close my eyes, I can arrive somewhere as if by magic.\n",
      "{'가수': 'Taylor Swift', '노래 제목': 'Christmas Tree Farm'}\n"
     ]
    }
   ],
   "source": [
    "prompt = '[내 겨울밤들은 가득 쌓인 스트레스와 연말 쇼핑 교통체증으로 채워져 하지만 눈을 감으면 어딘가로 도착할 수 있어 마치 마법처럼] 문장을 영어로 번역해줘.'\n",
    "response = tool.answer(role = '너는 번역가야', prompt=prompt, output = 'json', format = '{\"translated_text\": 번역된 문자열}')\n",
    "print(response['translated_text'])\n",
    "\n",
    "prompt = '아래 가사의 가수와 노래 제목을 알려줘\\n\\n' +response['translated_text']\n",
    "response = tool.answer(role = '너는 가수야', prompt=prompt, output = 'json', format = '{\"가수\": 이름, \"노래 제목\": 제목}', llm='gpt-4-turbo')\n",
    "print(response)"
   ]
  },
  {
   "cell_type": "code",
   "execution_count": 26,
   "id": "1b4ffec1-eafe-409e-8527-a84f4b3a83b6",
   "metadata": {},
   "outputs": [
    {
     "name": "stdout",
     "output_type": "stream",
     "text": [
      "{'가수': 'Taylor Swift', '노래 제목': 'Christmas Tree Farm'}\n"
     ]
    }
   ],
   "source": [
    "prompt = '아래 가사의 가수와 노래 제목을 알려줘\\n\\n My winter nights are filled with stress and year-end shopping traffic jams, but when I close my eyes, I can arrive somewhere as if by magic.'\n",
    "response = tool.answer(role = '너는 가수야', prompt=prompt, output = 'json', format = '{\"가수\": 이름, \"노래 제목\": 제목}', llm = 'gpt-4-turbo')\n",
    "print(response)"
   ]
  },
  {
   "cell_type": "code",
   "execution_count": 29,
   "id": "68c46752-6b7b-4433-8caf-4b79e394bb1b",
   "metadata": {},
   "outputs": [
    {
     "name": "stdout",
     "output_type": "stream",
     "text": [
      "{'제목': '여수 밤바다', '가수': '폴킴'}\n"
     ]
    }
   ],
   "source": [
    "# 정상적인 youtube 주소가 안나옴.\n",
    "prompt='''\n",
    "아래 가사의 노래 제목과 가수 이름을 알려줘\n",
    "\n",
    "\n",
    "[가사]\n",
    "여수 밤바다 이 조명에 담긴 아름다운 얘기가 있어\n",
    "네게 들려주고파 전활 걸어 뭐하고 있냐고\n",
    "나는 지금 여수 밤바다 여수 밤바다나의 옛날 동네\n",
    "옛날 동네 반지하 빌라엔\n",
    "네 가족 오순 도순\n",
    "오순 도순 잘 살고 있었네\n",
    "'''\n",
    "\n",
    "response = tool.answer('가수', prompt) \n",
    "\n",
    "print(response)"
   ]
  },
  {
   "cell_type": "code",
   "execution_count": null,
   "id": "e5652817-71c4-4fa1-a792-a41690de53e5",
   "metadata": {},
   "outputs": [],
   "source": []
  }
 ],
 "metadata": {
  "kernelspec": {
   "display_name": "ai",
   "language": "python",
   "name": "ai"
  },
  "language_info": {
   "codemirror_mode": {
    "name": "ipython",
    "version": 3
   },
   "file_extension": ".py",
   "mimetype": "text/x-python",
   "name": "python",
   "nbconvert_exporter": "python",
   "pygments_lexer": "ipython3",
   "version": "3.10.13"
  }
 },
 "nbformat": 4,
 "nbformat_minor": 5
}
